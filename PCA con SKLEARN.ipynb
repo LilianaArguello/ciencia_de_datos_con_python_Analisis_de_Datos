{
 "cells": [
  {
   "cell_type": "markdown",
   "metadata": {},
   "source": [
    "# Análisis de componentes principales (PCA)"
   ]
  },
  {
   "cell_type": "code",
   "execution_count": 16,
   "metadata": {},
   "outputs": [
    {
     "data": {
      "text/html": [
       "<div>\n",
       "<style scoped>\n",
       "    .dataframe tbody tr th:only-of-type {\n",
       "        vertical-align: middle;\n",
       "    }\n",
       "\n",
       "    .dataframe tbody tr th {\n",
       "        vertical-align: top;\n",
       "    }\n",
       "\n",
       "    .dataframe thead th {\n",
       "        text-align: right;\n",
       "    }\n",
       "</style>\n",
       "<table border=\"1\" class=\"dataframe\">\n",
       "  <thead>\n",
       "    <tr style=\"text-align: right;\">\n",
       "      <th></th>\n",
       "      <th>lng sepalo</th>\n",
       "      <th>anch sepalo</th>\n",
       "      <th>lng petalo</th>\n",
       "      <th>anch petalo</th>\n",
       "      <th>especie</th>\n",
       "    </tr>\n",
       "  </thead>\n",
       "  <tbody>\n",
       "    <tr>\n",
       "      <th>145</th>\n",
       "      <td>6.7</td>\n",
       "      <td>3.0</td>\n",
       "      <td>5.2</td>\n",
       "      <td>2.3</td>\n",
       "      <td>Iris-virginica</td>\n",
       "    </tr>\n",
       "    <tr>\n",
       "      <th>146</th>\n",
       "      <td>6.3</td>\n",
       "      <td>2.5</td>\n",
       "      <td>5.0</td>\n",
       "      <td>1.9</td>\n",
       "      <td>Iris-virginica</td>\n",
       "    </tr>\n",
       "    <tr>\n",
       "      <th>147</th>\n",
       "      <td>6.5</td>\n",
       "      <td>3.0</td>\n",
       "      <td>5.2</td>\n",
       "      <td>2.0</td>\n",
       "      <td>Iris-virginica</td>\n",
       "    </tr>\n",
       "    <tr>\n",
       "      <th>148</th>\n",
       "      <td>6.2</td>\n",
       "      <td>3.4</td>\n",
       "      <td>5.4</td>\n",
       "      <td>2.3</td>\n",
       "      <td>Iris-virginica</td>\n",
       "    </tr>\n",
       "    <tr>\n",
       "      <th>149</th>\n",
       "      <td>5.9</td>\n",
       "      <td>3.0</td>\n",
       "      <td>5.1</td>\n",
       "      <td>1.8</td>\n",
       "      <td>Iris-virginica</td>\n",
       "    </tr>\n",
       "  </tbody>\n",
       "</table>\n",
       "</div>"
      ],
      "text/plain": [
       "     lng sepalo  anch sepalo  lng petalo  anch petalo         especie\n",
       "145         6.7          3.0         5.2          2.3  Iris-virginica\n",
       "146         6.3          2.5         5.0          1.9  Iris-virginica\n",
       "147         6.5          3.0         5.2          2.0  Iris-virginica\n",
       "148         6.2          3.4         5.4          2.3  Iris-virginica\n",
       "149         5.9          3.0         5.1          1.8  Iris-virginica"
      ]
     },
     "execution_count": 16,
     "metadata": {},
     "output_type": "execute_result"
    }
   ],
   "source": [
    "import pandas as pd\n",
    "import numpy as np\n",
    "import matplotlib.pyplot as plt\n",
    "from sklearn.preprocessing import StandardScaler\n",
    "%matplotlib inline\n",
    "\n",
    "url = \"https://archive.ics.uci.edu/ml/machine-learning-databases/iris/iris.data\"\n",
    "\n",
    "\n",
    "df = pd.read_csv(url, names=['lng sepalo','anch sepalo','lng petalo','anch petalo','especie'])\n",
    "\n",
    "df.tail()"
   ]
  },
  {
   "cell_type": "code",
   "execution_count": 19,
   "metadata": {},
   "outputs": [],
   "source": [
    "# Se divide la matriz del dataset en dos partes\n",
    "\n",
    "X = df.iloc[:,0:4].values\n",
    "# la submatriz x contiene los valores de las primeras 4 columnas del dataframe y todas las filas\n",
    "# Que son nuestras variables independientes, en caso de que la variable respuesta no esté\n",
    "# en el dataframe, no es necesario hacer esta separación de columnas.\n",
    "\n",
    "y = df.iloc[:,4].values\n",
    "# El vector y contiene los valores de la 5ta columna (especie) para todas las filas"
   ]
  },
  {
   "cell_type": "code",
   "execution_count": 20,
   "metadata": {},
   "outputs": [],
   "source": [
    "#Aplicamos una transformación de los datos para poder estandarizar los rangos de todas las variables\n",
    "\n",
    "from sklearn.preprocessing import StandardScaler\n",
    "X_std = StandardScaler().fit_transform(X)"
   ]
  },
  {
   "cell_type": "code",
   "execution_count": 35,
   "metadata": {},
   "outputs": [
    {
     "name": "stdout",
     "output_type": "stream",
     "text": [
      "Porcentaje de la varianza explicada por componente: \n",
      " [0.72770452 0.23030523]\n",
      "Los componentes principales son: \n",
      " [[ 0.52237162 -0.26335492  0.58125401  0.56561105]\n",
      " [ 0.37231836  0.92555649  0.02109478  0.06541577]]\n"
     ]
    }
   ],
   "source": [
    "# Sci Kit learn realiza la descomposición de componentes principales con la siguiente clase\n",
    "from sklearn.decomposition import PCA\n",
    "\n",
    "# En este caso usaremos dos para poder graficar la información\n",
    "componentes = 2 # Máximo el número de columnas (variables independientes) del dataset X_std\n",
    "\n",
    "# Genera un objeto PCA e introduce el número de componentes que te interesa obtener\n",
    "pca = PCA(n_components=componentes)\n",
    "\n",
    "# Extrae los componentes principales con la función fit\n",
    "pca.fit(X_std)\n",
    "\n",
    "# Verifica tus componentes\n",
    "print(\"Porcentaje de la varianza explicada por componente: \\n\", pca.explained_variance_ratio_)\n",
    "print(\"Los componentes principales son: \\n\", pca.components_)"
   ]
  },
  {
   "cell_type": "code",
   "execution_count": 36,
   "metadata": {
    "scrolled": true
   },
   "outputs": [
    {
     "data": {
      "image/png": "[encoded data removed]",
      "text/plain": [
       "<Figure size 432x288 with 1 Axes>"
      ]
     },
     "metadata": {
      "needs_background": "light"
     },
     "output_type": "display_data"
    }
   ],
   "source": [
    "# Representamos en un diagrama de barras la varianza explicada por cada autovalor, y la acumulada\n",
    "\n",
    "plt.figure(figsize=(6, 4))\n",
    "\n",
    "plt.bar(range(componentes), pca.explained_variance_ratio_*100, alpha=0.5, align='center',\n",
    "        label='Varianza individual explicada', color='g')\n",
    "plt.step(range(componentes), np.cumsum(pca.explained_variance_ratio_)*100, where='mid', linestyle='--', label='Varianza explicada acumulada')\n",
    "plt.ylabel('Porcentaje de Varianza Explicada')\n",
    "plt.xlabel('Componentes Principales')\n",
    "plt.legend(loc='best')\n",
    "plt.tight_layout()"
   ]
  },
  {
   "cell_type": "code",
   "execution_count": 37,
   "metadata": {
    "scrolled": true
   },
   "outputs": [
    {
     "name": "stdout",
     "output_type": "stream",
     "text": [
      "Matriz W:\n",
      " [[ 0.52237162  0.37231836]\n",
      " [-0.26335492  0.92555649]\n",
      " [ 0.58125401  0.02109478]\n",
      " [ 0.56561105  0.06541577]]\n"
     ]
    }
   ],
   "source": [
    "# Visualizamos los componentes principales\n",
    "# (estas casillas sólo funcionan para los 2 primeros componentes principales)\n",
    "\n",
    "#Generamos la matriz a partir de los pares autovalor-autovector\n",
    "matrix_w = np.hstack((pca.components_[0].reshape(4,1),\n",
    "                      pca.components_[1].reshape(4,1)))\n",
    "\n",
    "print('Matriz W:\\n', matrix_w)\n",
    "\n",
    "Y = X_std.dot(matrix_w)\n"
   ]
  },
  {
   "cell_type": "code",
   "execution_count": 38,
   "metadata": {},
   "outputs": [
    {
     "data": {
      "image/png": "[encoded data removed]",
      "text/plain": [
       "<Figure size 432x288 with 1 Axes>"
      ]
     },
     "metadata": {
      "needs_background": "light"
     },
     "output_type": "display_data"
    }
   ],
   "source": [
    "# Generar plot\n",
    "plt.figure(figsize=(6, 4))\n",
    "for lab, col in zip(('Iris-setosa', 'Iris-versicolor', 'Iris-virginica'),\n",
    "                    ('red', 'blue', 'green')):\n",
    "    plt.scatter(Y[y==lab, 0],\n",
    "                Y[y==lab, 1],\n",
    "                label=lab,\n",
    "                c=col)\n",
    "plt.xlabel('Componente Principal 1')\n",
    "plt.ylabel('Componente Principal 2')\n",
    "plt.legend(loc='lower center')\n",
    "plt.tight_layout()\n",
    "plt.grid()\n",
    "plt.show()"
   ]
  }
 ],
 "metadata": {
  "kernelspec": {
   "display_name": "Python 3",
   "language": "python",
   "name": "python3"
  },
  "language_info": {
   "codemirror_mode": {
    "name": "ipython",
    "version": 3
   },
   "file_extension": ".py",
   "mimetype": "text/x-python",
   "name": "python",
   "nbconvert_exporter": "python",
   "pygments_lexer": "ipython3",
   "version": "3.8.5"
  }
 },
 "nbformat": 4,
 "nbformat_minor": 4
}
