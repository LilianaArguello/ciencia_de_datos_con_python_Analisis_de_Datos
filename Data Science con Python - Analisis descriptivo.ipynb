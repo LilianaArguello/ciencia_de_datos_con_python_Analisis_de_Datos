{
 "cells": [
  {
   "cell_type": "markdown",
   "metadata": {},
   "source": [
    "# Análisis de Datos\n",
    "### Cuidado con la limpieza de tus datos\n",
    "¡Vamos a trabajar lo siguiente!"
   ]
  },
  {
   "cell_type": "code",
   "execution_count": 3,
   "metadata": {},
   "outputs": [],
   "source": [
    "# Termina de importar todas las librerías necesarias\n",
    "import numpy as np\n",
    "import pandas as pd"
   ]
  },
  {
   "cell_type": "markdown",
   "metadata": {},
   "source": [
    "## CRE\n",
    "La Comisión Reguladora de Energía es el Órgano Regulador Coordinado en Materia Energética promotor del desarrollo\n",
    "eficiente del sector y del suministro confiable de hidrocarburos y electricidad.\n",
    "\n",
    "Y como organismo público tiene la obligación de publicar datos acerca de la generación, transmisión y distribución de energía. Vamos a analizar algunos datos a partir de la página de Datos abiertos de México que provee el gobierno de México."
   ]
  },
  {
   "cell_type": "markdown",
   "metadata": {},
   "source": [
    "https://datos.gob.mx/"
   ]
  },
  {
   "cell_type": "markdown",
   "metadata": {},
   "source": [
    "A continuación vamos a hacer algunos ejercicios de análisis que intentarán responder varias preguntas a partir de ciertos datos publicados por la CRE."
   ]
  },
  {
   "cell_type": "markdown",
   "metadata": {},
   "source": [
    "#### Ejercicio 1\n",
    "\n",
    "En el siguiente documento se muestra las tarifas que cobrará la CFE a quienes participen en el Mercado Eléctrico Mayorista por la distribución de energía eléctrica.\n",
    "\n",
    "Respuesta que buscamos:\n",
    "\n",
    "1.-¿Cuánto subió en porcentaje la Tarifa PDBT con respecto al año anterior en el Bajío?"
   ]
  },
  {
   "cell_type": "code",
   "execution_count": 7,
   "metadata": {
    "scrolled": true
   },
   "outputs": [],
   "source": [
    "# Vamos a tratar de importar un de \n",
    "df = pd.read_csv('tarifasdistribucionenergiaelectrica.csv')"
   ]
  },
  {
   "cell_type": "markdown",
   "metadata": {},
   "source": [
    "_Sugerencia_ la función read_csv de pandas tiene una entrada a su función que permite incluir caracteres de otros idiomas externos al inglés, te puede ayudar encoding='latin-1'. Te invito a que le eches un ojo  ala documentación de esta función tan interesante https://pandas.pydata.org/pandas-docs/stable/reference/api/pandas.read_csv.html"
   ]
  },
  {
   "cell_type": "code",
   "execution_count": 9,
   "metadata": {},
   "outputs": [],
   "source": [
    "# Significado de cada columna\n",
    "tarifas_dict = {'Tarifa DB1':\"Doméstico Baja Tensión hasta 150 kWh-mes\",\n",
    "                'Tarifa DB2': \"Doméstico Baja Tensión mayor a 150 kWh-mes\",\n",
    "                'Tarifa PDBT':\"Pequeña Demanda Baja Tensión hasta 25 kW-mes\",\n",
    "                'Tarifa GDBT':\"Gran Demanda Baja Tensión mayor a 25 kW-mes\",\n",
    "                'Tarifa GDMT':\"Gran Demanda en Media Tensión\"}"
   ]
  },
  {
   "cell_type": "markdown",
   "metadata": {},
   "source": [
    "#### Ejercicio 2\n",
    "La lista de permisos en materia de importación y exportación de energía eléctrica muestra los permisos y autorizaciones \n",
    "en materia de importación y exportación de energía eléctrica, fecha de otorgamiento, razón social, estatus,etc.Puedes responder, analizar e ilustrar:\n",
    "    \n",
    "    1- ¿Cuántas razones sociales tienen permiso de importar y exportar?\n",
    "    2.- ¿Cuántos tienen permiso de importar únicamente?\n",
    "    3.- ¿Cuántos tienen permiso de exportar únicamente?\n",
    "    4.- ¿En qué año se han otorgado más permisos?\n",
    "    5.- ¿Cuál es la distribución de energía importada autorizada en México?\n",
    "    6.-¿Qué características tienen los estados que tienen permiso de importar y exportar?"
   ]
  },
  {
   "cell_type": "code",
   "execution_count": null,
   "metadata": {},
   "outputs": [],
   "source": [
    "archivo = 'PermisosImportacionExportacionEnergiaElectrica.csv'"
   ]
  },
  {
   "cell_type": "markdown",
   "metadata": {},
   "source": [
    "#### Ejercicio 3\n",
    "El total de permisos vigentes de generación de energía eléctrica por modalidad a nivel nacional se reporta en el \n",
    "siguiente documento. Puedes responder, analizar e ilustrar:\n",
    "    \n",
    "    1- ¿Cuántas modalidades hay y cuál es la más popular?\n",
    "    2- ¿Cuál es la distribución de los años en que fueron otorgados los permisos?\n",
    "    3- ¿En qué año fueron otorgados la mayor cantidad de permisos?\n",
    "    4- ¿Cuál es la media del año otorgado por cada Modalidad?"
   ]
  },
  {
   "cell_type": "markdown",
   "metadata": {},
   "source": [
    "#### Ejercicio 4\n",
    "¿Cómo se genera la energía en México? "
   ]
  }
 ],
 "metadata": {
  "kernelspec": {
   "display_name": "Python 3",
   "language": "python",
   "name": "python3"
  },
  "language_info": {
   "codemirror_mode": {
    "name": "ipython",
    "version": 3
   },
   "file_extension": ".py",
   "mimetype": "text/x-python",
   "name": "python",
   "nbconvert_exporter": "python",
   "pygments_lexer": "ipython3",
   "version": "3.6.5"
  }
 },
 "nbformat": 4,
 "nbformat_minor": 2
}
